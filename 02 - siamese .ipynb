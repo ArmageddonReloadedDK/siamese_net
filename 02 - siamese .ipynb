{
 "cells": [
  {
   "cell_type": "code",
   "execution_count": 1,
   "metadata": {},
   "outputs": [],
   "source": [
    "from image_utils import get_pairs,get_dataset_info,estimate_dataset\n",
    "import os\n",
    "import matplotlib.pyplot as plt\n",
    "from matplotlib.pyplot import imread\n",
    "import numpy as np\n",
    "import time\n",
    "import sys"
   ]
  },
  {
   "cell_type": "code",
   "execution_count": 2,
   "metadata": {},
   "outputs": [],
   "source": [
    "image_shape=(128,128,3)\n",
    "main_folder_name='dataset'\n",
    "max_positive_pairs_count=150000\n",
    "max_negative_pairs_count=20000"
   ]
  },
  {
   "cell_type": "code",
   "execution_count": 3,
   "metadata": {},
   "outputs": [
    {
     "name": "stdout",
     "output_type": "stream",
     "text": [
      "-------------------------------------------------------\n",
      "Dataset info\n",
      "\n",
      "image shape =  (128, 128, 3)\n",
      "image weight =  48.0  KiB\n",
      "number of classes =  28\n",
      "number of pictures =  1347\n",
      "positive pairs count = 108067\n",
      "positive pairs images weight = 9.894  GiB\n",
      "negative pairs count = 1706342\n",
      "negative pairs images weight = 156.22  GiB\n"
     ]
    }
   ],
   "source": [
    "get_dataset_info(main_folder_name)"
   ]
  },
  {
   "cell_type": "code",
   "execution_count": 4,
   "metadata": {},
   "outputs": [
    {
     "name": "stdout",
     "output_type": "stream",
     "text": [
      "-------------------------------------------------------\n",
      "Estimated info\n",
      "\n",
      "desired positive pairs count = 150000\n",
      "positive pairs images weight = 13.733  GiB\n",
      "\n",
      "desired negative pairs count = 20000\n",
      "negative pairs images weight = 1.831  GiB\n"
     ]
    }
   ],
   "source": [
    "estimate_dataset(main_folder_name,\n",
    "                 max_positive_pairs_count,\n",
    "                 max_negative_pairs_count)"
   ]
  },
  {
   "cell_type": "code",
   "execution_count": null,
   "metadata": {},
   "outputs": [],
   "source": [
    "pairs,labels=get_pairs(main_folder_name,\n",
    "                       max_positive_pairs_count,\n",
    "                       max_negative_pairs_count)"
   ]
  },
  {
   "cell_type": "code",
   "execution_count": null,
   "metadata": {},
   "outputs": [],
   "source": [
    "N=107000\n",
    "image1=pairs[N][0]\n",
    "image2=pairs[N][1]\n",
    "test_image='0596.jpg'\n",
    "folder='0'"
   ]
  },
  {
   "cell_type": "code",
   "execution_count": null,
   "metadata": {},
   "outputs": [],
   "source": [
    "plt.imshow(image1)"
   ]
  },
  {
   "cell_type": "code",
   "execution_count": null,
   "metadata": {},
   "outputs": [],
   "source": [
    "plt.imshow(image2)"
   ]
  }
 ],
 "metadata": {
  "kernelspec": {
   "display_name": "env_neuro",
   "language": "python",
   "name": "env_neuro"
  },
  "language_info": {
   "codemirror_mode": {
    "name": "ipython",
    "version": 3
   },
   "file_extension": ".py",
   "mimetype": "text/x-python",
   "name": "python",
   "nbconvert_exporter": "python",
   "pygments_lexer": "ipython3",
   "version": "3.6.10"
  }
 },
 "nbformat": 4,
 "nbformat_minor": 4
}
