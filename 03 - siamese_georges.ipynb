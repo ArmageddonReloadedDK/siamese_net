{
 "cells": [
  {
   "cell_type": "code",
   "execution_count": 116,
   "metadata": {},
   "outputs": [],
   "source": [
    "import tensorflow as tf\n",
    "from tensorflow.keras.models import Model\n",
    "from tensorflow.keras.layers import Input, Flatten, Dense, Dropout,Activation, Lambda,LeakyReLU,ReLU\n",
    "from tensorflow.keras.layers import Conv2D,MaxPooling2D,BatchNormalization,LayerNormalization,GlobalMaxPooling2D\n",
    "from tensorflow.keras.optimizers import RMSprop, Adam\n",
    "from tensorflow.keras.activations import sigmoid\n",
    "from tensorflow.keras.datasets import fashion_mnist\n",
    "from tensorflow.python.keras.utils.vis_utils import plot_model\n",
    "from tensorflow.keras.models import Sequential\n",
    "from tensorflow.keras.applications.vgg16 import VGG16\n",
    "from tensorflow.keras import backend as K\n",
    "from sklearn.model_selection import train_test_split\n",
    "import matplotlib.pyplot as plt\n",
    "from matplotlib.pyplot import imread\n",
    "import pandas as pd\n",
    "import numpy as np\n",
    "import os\n",
    "\n",
    "from image_utils import get_pairs,get_dataset_info,estimate_dataset\n"
   ]
  },
  {
   "cell_type": "markdown",
   "metadata": {},
   "source": [
    "# Human classification"
   ]
  },
  {
   "cell_type": "markdown",
   "metadata": {},
   "source": [
    "I use opensourse SoF dataset( https://www.sites.google.com/view/sof-dataset ). let's look at the resized images "
   ]
  },
  {
   "cell_type": "code",
   "execution_count": 114,
   "metadata": {},
   "outputs": [],
   "source": [
    "folders=os.listdir(main_folder_name)\n",
    "image_weight_folder=folders[0]\n",
    "folder_image_name=os.listdir(main_folder_name+'/'+image_weight_folder)[0]\n",
    "image=imread(main_folder_name+'/'+ image_weight_folder+'/'+folder_image_name)\n",
    "plt.imshow(image)"
   ]
  },
  {
   "cell_type": "markdown",
   "metadata": {},
   "source": [
    "## Define images main information"
   ]
  },
  {
   "cell_type": "code",
   "execution_count": 78,
   "metadata": {},
   "outputs": [
    {
     "name": "stdout",
     "output_type": "stream",
     "text": [
      "-------------------------------------------------------\n",
      "Dataset info\n",
      "\n",
      "image shape =  (128, 128, 3)\n",
      "image weight =  48.0  KiB\n",
      "number of classes =  4\n",
      "number of pictures =  164\n",
      "positive pairs count = 8506\n",
      "positive pairs images weight = 0.779  GiB\n",
      "negative pairs count = 18390\n",
      "negative pairs images weight = 1.684  GiB\n",
      "\n",
      "total memory size = 2.463  GiB\n"
     ]
    }
   ],
   "source": [
    "main_folder_name='dataset'\n",
    "get_dataset_info(main_folder_name)"
   ]
  },
  {
   "cell_type": "markdown",
   "metadata": {},
   "source": [
    "## Define dataset parametrs "
   ]
  },
  {
   "cell_type": "code",
   "execution_count": 79,
   "metadata": {},
   "outputs": [
    {
     "name": "stdout",
     "output_type": "stream",
     "text": [
      "-------------------------------------------------------\n",
      "Estimated info\n",
      "\n",
      "desired positive pairs count = 9000\n",
      "positive pairs images weight = 0.824  GiB\n",
      "\n",
      "desired negative pairs count = 19000\n",
      "negative pairs images weight = 1.74  GiB\n",
      "\n",
      "total memory size = 2.564  GiB\n"
     ]
    }
   ],
   "source": [
    "image_shape=(128,128,3)\n",
    "main_folder_name='dataset'\n",
    "max_positive_pairs_count=9000\n",
    "max_negative_pairs_count=19000\n",
    "estimate_dataset(main_folder_name,\n",
    "                 max_positive_pairs_count,\n",
    "                 max_negative_pairs_count)"
   ]
  },
  {
   "cell_type": "markdown",
   "metadata": {},
   "source": [
    "## Preprocces the images"
   ]
  },
  {
   "cell_type": "code",
   "execution_count": 40,
   "metadata": {},
   "outputs": [
    {
     "name": "stdout",
     "output_type": "stream",
     "text": [
      "Calculation began\n",
      "\n",
      "Calculation is done\n",
      "\n",
      "passed seconds:  16.078  seconds\n"
     ]
    }
   ],
   "source": [
    "pairs,labels=get_pairs(main_folder_name,\n",
    "                       max_positive_pairs_count,\n",
    "                       max_negative_pairs_count)"
   ]
  },
  {
   "cell_type": "code",
   "execution_count": 41,
   "metadata": {},
   "outputs": [],
   "source": [
    "train_pairs,test_pairs,train_labels,test_labels=train_test_split(pairs,labels,test_size=0.05)"
   ]
  },
  {
   "cell_type": "markdown",
   "metadata": {},
   "source": [
    "## Siamese pecularity"
   ]
  },
  {
   "cell_type": "markdown",
   "metadata": {},
   "source": [
    "As siamese network measure distance between we define Euclidean distance Lambda layer and special contrastive loss ( https://arxiv.org/abs/2011.02803 )"
   ]
  },
  {
   "cell_type": "code",
   "execution_count": 80,
   "metadata": {},
   "outputs": [],
   "source": [
    "def euclidean_distance(vects):\n",
    "    x, y = vects\n",
    "    sum_square = K.sum(K.square(x - y), axis=1, keepdims=True)\n",
    "    return K.sqrt(K.maximum(sum_square, K.epsilon()))\n",
    "\n",
    "\n",
    "def eucl_dist_output_shape(shapes):\n",
    "    shape1, shape2 = shapes\n",
    "    return (shape1[0], 1)\n",
    "\n",
    "def contrastive_loss_with_margin(margin):\n",
    "    def contrastive_loss(y_true, y_pred):\n",
    "    \n",
    "        square_pred = K.square(y_pred)\n",
    "        margin_square = K.square(K.maximum(margin - y_pred, 0))\n",
    "        return K.mean( (1 - y_true) * square_pred+y_true*margin_square)\n",
    "    \n",
    "    return contrastive_loss"
   ]
  },
  {
   "cell_type": "code",
   "execution_count": 81,
   "metadata": {},
   "outputs": [],
   "source": [
    "def get_model():\n",
    "    #\n",
    "    #   it is also good idea to use VGG model, but it requires powerfull GPU\n",
    "    #   model = Sequential(VGG16(weights='imagenet', include_top=False, input_shape=image_shape).layers)\n",
    "    #\n",
    "    model=Sequential()\n",
    "    \n",
    "    model.add(Conv2D(32,(3,3),input_shape=image_shape))\n",
    "    model.add(BatchNormalization())\n",
    "    model.add(Conv2D(32,(3,3)))\n",
    "    model.add(MaxPooling2D((2,2)))\n",
    "        \n",
    "    model.add(Conv2D(64,(3,3)))\n",
    "    model.add(BatchNormalization())\n",
    "    model.add(Conv2D(64,(3,3)))\n",
    "    model.add(MaxPooling2D((2,2)))\n",
    "\n",
    "    model.add(Conv2D(128,(3,3)))\n",
    "    model.add(BatchNormalization())\n",
    "    model.add(Conv2D(128,(3,3)))\n",
    "    model.add(MaxPooling2D((3,3)))\n",
    "    \n",
    "    model.add(Conv2D(256,(3,3)))\n",
    "    model.add(BatchNormalization())\n",
    "    model.add(Conv2D(256,(3,3)))\n",
    "    model.add(MaxPooling2D((3,3)))\n",
    "    \n",
    "    model.add(Flatten())\n",
    "    model.add(Dense(512))\n",
    "    model.add(LeakyReLU(0.2))\n",
    "    model.add(Dense(256))\n",
    "    model.add(LeakyReLU(0.2))\n",
    "\n",
    "    return model"
   ]
  },
  {
   "cell_type": "code",
   "execution_count": 82,
   "metadata": {},
   "outputs": [
    {
     "name": "stdout",
     "output_type": "stream",
     "text": [
      "Model: \"sequential_5\"\n",
      "_________________________________________________________________\n",
      "Layer (type)                 Output Shape              Param #   \n",
      "=================================================================\n",
      "conv2d_40 (Conv2D)           (None, 126, 126, 32)      896       \n",
      "_________________________________________________________________\n",
      "batch_normalization_20 (Batc (None, 126, 126, 32)      128       \n",
      "_________________________________________________________________\n",
      "conv2d_41 (Conv2D)           (None, 124, 124, 32)      9248      \n",
      "_________________________________________________________________\n",
      "max_pooling2d_20 (MaxPooling (None, 62, 62, 32)        0         \n",
      "_________________________________________________________________\n",
      "conv2d_42 (Conv2D)           (None, 60, 60, 64)        18496     \n",
      "_________________________________________________________________\n",
      "batch_normalization_21 (Batc (None, 60, 60, 64)        256       \n",
      "_________________________________________________________________\n",
      "conv2d_43 (Conv2D)           (None, 58, 58, 64)        36928     \n",
      "_________________________________________________________________\n",
      "max_pooling2d_21 (MaxPooling (None, 29, 29, 64)        0         \n",
      "_________________________________________________________________\n",
      "conv2d_44 (Conv2D)           (None, 27, 27, 128)       73856     \n",
      "_________________________________________________________________\n",
      "batch_normalization_22 (Batc (None, 27, 27, 128)       512       \n",
      "_________________________________________________________________\n",
      "conv2d_45 (Conv2D)           (None, 25, 25, 128)       147584    \n",
      "_________________________________________________________________\n",
      "max_pooling2d_22 (MaxPooling (None, 8, 8, 128)         0         \n",
      "_________________________________________________________________\n",
      "conv2d_46 (Conv2D)           (None, 6, 6, 256)         295168    \n",
      "_________________________________________________________________\n",
      "batch_normalization_23 (Batc (None, 6, 6, 256)         1024      \n",
      "_________________________________________________________________\n",
      "conv2d_47 (Conv2D)           (None, 4, 4, 256)         590080    \n",
      "_________________________________________________________________\n",
      "max_pooling2d_23 (MaxPooling (None, 1, 1, 256)         0         \n",
      "_________________________________________________________________\n",
      "flatten_5 (Flatten)          (None, 256)               0         \n",
      "_________________________________________________________________\n",
      "dense_13 (Dense)             (None, 512)               131584    \n",
      "_________________________________________________________________\n",
      "leaky_re_lu_10 (LeakyReLU)   (None, 512)               0         \n",
      "_________________________________________________________________\n",
      "dense_14 (Dense)             (None, 256)               131328    \n",
      "_________________________________________________________________\n",
      "leaky_re_lu_11 (LeakyReLU)   (None, 256)               0         \n",
      "=================================================================\n",
      "Total params: 1,437,088\n",
      "Trainable params: 1,436,128\n",
      "Non-trainable params: 960\n",
      "_________________________________________________________________\n"
     ]
    }
   ],
   "source": [
    "base_network = get_model()\n",
    "base_network.summary()"
   ]
  },
  {
   "cell_type": "markdown",
   "metadata": {},
   "source": [
    "## Define siamese model"
   ]
  },
  {
   "cell_type": "markdown",
   "metadata": {},
   "source": [
    "To provide weights sycronization we define left and right inputs with the same model"
   ]
  },
  {
   "cell_type": "code",
   "execution_count": 84,
   "metadata": {},
   "outputs": [],
   "source": [
    "input_a = Input(shape=image_shape)\n",
    "vect_output_a = base_network(input_a)\n",
    "\n",
    "input_b = Input(shape=image_shape)\n",
    "vect_output_b = base_network(input_b)\n",
    "\n",
    "x = Lambda(euclidean_distance, output_shape=eucl_dist_output_shape)([vect_output_a, vect_output_b])\n",
    "output= Dense(1,activation='sigmoid')(x)\n",
    "\n",
    "# specify the inputs and output of the model\n",
    "model = Model([input_a, input_b], output)"
   ]
  },
  {
   "cell_type": "code",
   "execution_count": 85,
   "metadata": {},
   "outputs": [
    {
     "name": "stdout",
     "output_type": "stream",
     "text": [
      "Model: \"model_4\"\n",
      "__________________________________________________________________________________________________\n",
      "Layer (type)                    Output Shape         Param #     Connected to                     \n",
      "==================================================================================================\n",
      "input_9 (InputLayer)            [(None, 128, 128, 3) 0                                            \n",
      "__________________________________________________________________________________________________\n",
      "input_10 (InputLayer)           [(None, 128, 128, 3) 0                                            \n",
      "__________________________________________________________________________________________________\n",
      "sequential_7 (Sequential)       (None, 256)          1437088     input_9[0][0]                    \n",
      "                                                                 input_10[0][0]                   \n",
      "__________________________________________________________________________________________________\n",
      "lambda_4 (Lambda)               (None, 1)            0           sequential_7[1][0]               \n",
      "                                                                 sequential_7[2][0]               \n",
      "__________________________________________________________________________________________________\n",
      "dense_20 (Dense)                (None, 1)            2           lambda_4[0][0]                   \n",
      "==================================================================================================\n",
      "Total params: 1,437,090\n",
      "Trainable params: 1,436,130\n",
      "Non-trainable params: 960\n",
      "__________________________________________________________________________________________________\n"
     ]
    }
   ],
   "source": [
    "model.summary()"
   ]
  },
  {
   "cell_type": "markdown",
   "metadata": {},
   "source": [
    "## Model training"
   ]
  },
  {
   "cell_type": "markdown",
   "metadata": {},
   "source": [
    "*Important*, 43 epochs take 4 hours to train on gxt 980 ti. Make sure, that you have enough computation power"
   ]
  },
  {
   "cell_type": "code",
   "execution_count": 107,
   "metadata": {},
   "outputs": [],
   "source": [
    "optim = RMSprop(  learning_rate=0.00001)\n",
    "#optim = Adam(  learning_rate=0.015)\n",
    "model.compile(loss=contrastive_loss_with_margin(margin=1), optimizer=optim)\n",
    "history = model.fit([train_pairs[:,0],train_pairs[:,1]], \n",
    "                    train_labels, \n",
    "                    epochs=43, \n",
    "                    batch_size=18,\n",
    "                    validation_split=0.2)"
   ]
  },
  {
   "cell_type": "markdown",
   "metadata": {},
   "source": [
    "## Save weights and history"
   ]
  },
  {
   "cell_type": "code",
   "execution_count": 143,
   "metadata": {},
   "outputs": [],
   "source": [
    "model.save_weights('saved data/weight.h5')\n",
    "hist_df = pd.DataFrame(history.history) \n",
    "hist_json_file = 'saved data/history.json' \n",
    "with open(hist_json_file, mode='w') as f:\n",
    "    hist_df.to_json(f)"
   ]
  },
  {
   "cell_type": "markdown",
   "metadata": {},
   "source": [
    "## Load weights and history"
   ]
  },
  {
   "cell_type": "code",
   "execution_count": 86,
   "metadata": {},
   "outputs": [],
   "source": [
    "model.load_weights('saved data/weight.h5')\n",
    "load_history=pd.read_json('saved data/history.json')"
   ]
  },
  {
   "cell_type": "code",
   "execution_count": 106,
   "metadata": {},
   "outputs": [
    {
     "data": {
      "image/png": "[encoded data removed]",
      "text/plain": [
       "<Figure size 1080x576 with 1 Axes>"
      ]
     },
     "metadata": {
      "needs_background": "light"
     },
     "output_type": "display_data"
    }
   ],
   "source": [
    "loss=new_pd_history['loss']\n",
    "val_loss=new_pd_history['val_loss']\n",
    "x=range(len(loss))\n",
    "X=15\n",
    "Y=8\n",
    "plt.figure(figsize=(X,Y))\n",
    "plt.plot(x,loss,'b',x,val_loss,'g')\n",
    "plt.title('Last 25 of 43 epochs', fontsize=20, fontname='Times New Roman')\n",
    "plt.legend(['loss','val_loss'])\n",
    "plt.xlabel('Counting')\n",
    "plt.ylabel('Square values')\n",
    "plt.show()"
   ]
  },
  {
   "cell_type": "markdown",
   "metadata": {},
   "source": [
    "## Model testing"
   ]
  },
  {
   "cell_type": "code",
   "execution_count": 108,
   "metadata": {},
   "outputs": [],
   "source": [
    "def compute_accuracy(y_true, y_pred):\n",
    "    '''Compute classification accuracy with a fixed threshold on distances.\n",
    "    '''\n",
    "    pred = y_pred.ravel() > 0.5\n",
    "    return round(np.mean(pred == y_true),4)"
   ]
  },
  {
   "cell_type": "code",
   "execution_count": 109,
   "metadata": {},
   "outputs": [
    {
     "name": "stdout",
     "output_type": "stream",
     "text": [
      "26600/26600 [==============================] - 101s 4ms/sample - loss: 0.0075\n",
      "Loss = 0.007514905655770597, Train Accuracy = 0.5664 Test Accuracy = 0.5561\n"
     ]
    }
   ],
   "source": [
    "loss = model.evaluate(x=[new_pairs[:,0],new_pairs[:,1]], y=new_labels)\n",
    "\n",
    "y_pred_train = model.predict([new_pairs[:,0], new_pairs[:,1]])\n",
    "train_accuracy = compute_accuracy(new_labels, y_pred_train)\n",
    "\n",
    "y_pred_test = model.predict([test_pairs[:,0], test_pairs[:,1]])\n",
    "test_accuracy = compute_accuracy(test_labels, y_pred_test)\n",
    "\n",
    "print(\"Loss = {}, Train Accuracy = {} Test Accuracy = {}\".format(loss, train_accuracy, test_accuracy))"
   ]
  }
 ],
 "metadata": {
  "kernelspec": {
   "display_name": "env_neuro",
   "language": "python",
   "name": "env_neuro"
  },
  "language_info": {
   "codemirror_mode": {
    "name": "ipython",
    "version": 3
   },
   "file_extension": ".py",
   "mimetype": "text/x-python",
   "name": "python",
   "nbconvert_exporter": "python",
   "pygments_lexer": "ipython3",
   "version": "3.6.10"
  }
 },
 "nbformat": 4,
 "nbformat_minor": 4
}
